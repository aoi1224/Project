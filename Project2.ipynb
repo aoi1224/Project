{
  "nbformat": 4,
  "nbformat_minor": 0,
  "metadata": {
    "colab": {
      "provenance": [],
      "authorship_tag": "ABX9TyOPQtFKp5fCwvqGUT31lvJY",
      "include_colab_link": true
    },
    "kernelspec": {
      "name": "python3",
      "display_name": "Python 3"
    },
    "language_info": {
      "name": "python"
    }
  },
  "cells": [
    {
      "cell_type": "markdown",
      "metadata": {
        "id": "view-in-github",
        "colab_type": "text"
      },
      "source": [
        "<a href=\"https://colab.research.google.com/github/aoi1224/test/blob/main/Project2.ipynb\" target=\"_parent\"><img src=\"https://colab.research.google.com/assets/colab-badge.svg\" alt=\"Open In Colab\"/></a>"
      ]
    },
    {
      "cell_type": "code",
      "execution_count": 2,
      "metadata": {
        "colab": {
          "base_uri": "https://localhost:8080/"
        },
        "id": "nlvGIfrtkvxh",
        "outputId": "c1a5a552-06a9-4258-a625-97c9b5ad2a08"
      },
      "outputs": [
        {
          "output_type": "stream",
          "name": "stdout",
          "text": [
            "                    g         a     labsh        cd         t  Growth Rate  \\\n",
            "countrycode                                                                  \n",
            "AUS          1.724265  0.348140  0.651860  0.564797  1.159467     1.724265   \n",
            "AUT          3.038354  0.365929  0.634071  1.409189  1.629165     3.038354   \n",
            "\n",
            "             Capital Share  TFP Share  TFP Growth  Capital Deepening  \n",
            "countrycode                                                           \n",
            "AUS               0.348140   0.651860    1.159467           0.564797  \n",
            "AUT               0.365929   0.634071    1.629165           1.409189  \n"
          ]
        }
      ],
      "source": [
        "import pandas as pd\n",
        "import numpy as np\n",
        "\n",
        "\n",
        "# Load data\n",
        "pwt90 = pd.read_stata('https://www.rug.nl/ggdc/docs/pwt90.dta')\n",
        "#pwt1001 = pd.read_stata('https://dataverse.nl/api/access/datafile/354098')\n",
        "\n",
        "# Filter and select relevant columns\n",
        "data = pwt90.loc[pwt90['country'].isin([\"Australia\", \"Austria\"])][['year', 'countrycode', 'rgdpna', 'rkna', 'emp', 'labsh']]\n",
        "data = data.loc[(data['year'] >= 1960) & (data['year'] <= 2000)].dropna()\n",
        "\n",
        "# Calculate additional columns\n",
        "data['y_pc'] = np.log(data['rgdpna'] / data['emp'])  # GDP per worker\n",
        "data['k_pc'] = np.log(data['rkna'] / data['emp'])  # Capital per worker\n",
        "data['a'] = 1 - data['labsh']  # Capital share\n",
        "\n",
        "# Order by year\n",
        "data = data.sort_values('year')\n",
        "\n",
        "# Group by isocode\n",
        "grouped_data = data.groupby('countrycode')\n",
        "\n",
        "# Calculate growth rates, capital deepening and TFP growth\n",
        "\n",
        "data['g'] = (grouped_data['y_pc'].diff() * 100)  # Growth rate of GDP per capita\n",
        "data['cd'] = (grouped_data['k_pc'].diff() * 100) * (data['a'])  # capital deepening\n",
        "data['t'] = data['g'] - data['cd']\n",
        "\n",
        "# Remove missing values\n",
        "data = data.dropna()\n",
        "\n",
        "# Calculate summary statistics\n",
        "summary = data.groupby('countrycode').agg({'g': 'mean', 'a': \"mean\",'labsh': \"mean\",'cd': \"mean\",'t': \"mean\"})\n",
        "\n",
        "# Calculate additional summary statistics\n",
        "summary['Growth Rate'] = summary['g']\n",
        "summary['Capital Share'] = summary['a']\n",
        "summary['TFP Share'] = summary['labsh']\n",
        "summary['TFP Growth'] = summary['t']\n",
        "summary['Capital Deepening'] = summary['cd']\n",
        "\n",
        "# Print output\n",
        "print(summary)"
      ]
    }
  ]
}