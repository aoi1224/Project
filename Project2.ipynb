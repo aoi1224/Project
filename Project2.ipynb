{
  "nbformat": 4,
  "nbformat_minor": 0,
  "metadata": {
    "colab": {
      "provenance": [],
      "authorship_tag": "ABX9TyMSxmYevX3PNcPCwUJQnr2n",
      "include_colab_link": true
    },
    "kernelspec": {
      "name": "python3",
      "display_name": "Python 3"
    },
    "language_info": {
      "name": "python"
    }
  },
  "cells": [
    {
      "cell_type": "markdown",
      "metadata": {
        "id": "view-in-github",
        "colab_type": "text"
      },
      "source": [
        "<a href=\"https://colab.research.google.com/github/aoi1224/test/blob/main/Project2.ipynb\" target=\"_parent\"><img src=\"https://colab.research.google.com/assets/colab-badge.svg\" alt=\"Open In Colab\"/></a>"
      ]
    },
    {
      "cell_type": "code",
      "execution_count": 3,
      "metadata": {
        "colab": {
          "base_uri": "https://localhost:8080/"
        },
        "id": "nlvGIfrtkvxh",
        "outputId": "b51c41ef-fc4e-41fa-8b1a-2d09859cecc6"
      },
      "outputs": [
        {
          "output_type": "stream",
          "name": "stdout",
          "text": [
            "                    g         a     labsh        cd         t  Growth Rate  \\\n",
            "countrycode                                                                  \n",
            "CAN          0.887700  0.346190  0.653810  0.634013  0.253687     0.887700   \n",
            "DEU          0.661055  0.370730  0.629270  0.437718  0.223337     0.661055   \n",
            "FRA          0.829236  0.381194  0.618806  0.568817  0.260418     0.829236   \n",
            "GBR          1.015544  0.412993  0.587007  0.573001  0.442543     1.015544   \n",
            "ITA         -0.037181  0.484835  0.515165  0.533835 -0.571016    -0.037181   \n",
            "JPN          0.710956  0.430601  0.569399  0.631053  0.079903     0.710956   \n",
            "USA          1.536985  0.393260  0.606740  0.780325  0.756660     1.536985   \n",
            "\n",
            "             Capital Share  TFP Share  TFP Growth  Capital Deepening  \n",
            "countrycode                                                           \n",
            "CAN               0.346190   0.653810    0.253687           0.634013  \n",
            "DEU               0.370730   0.629270    0.223337           0.437718  \n",
            "FRA               0.381194   0.618806    0.260418           0.568817  \n",
            "GBR               0.412993   0.587007    0.442543           0.573001  \n",
            "ITA               0.484835   0.515165   -0.571016           0.533835  \n",
            "JPN               0.430601   0.569399    0.079903           0.631053  \n",
            "USA               0.393260   0.606740    0.756660           0.780325  \n"
          ]
        }
      ],
      "source": [
        "import pandas as pd\n",
        "import numpy as np\n",
        "\n",
        "\n",
        "# Load data\n",
        "pwt1001 = pd.read_stata('https://dataverse.nl/api/access/datafile/354098')\n",
        "\n",
        "# Filter and select relevant columns\n",
        "data = pwt1001.loc[pwt1001['country'].isin([\"France\", \"Germany\", \"Canada\", \"Italy\", \"Japan\", \"United Kingdom\", \"United States\"])][['year', 'countrycode', 'rgdpna', 'rkna', 'emp', 'labsh']]\n",
        "data = data.loc[(data['year'] >= 1995) & (data['year'] <= 2019)].dropna()\n",
        "\n",
        "# Calculate additional columns\n",
        "data['y_pc'] = np.log(data['rgdpna'] / data['emp'])  # GDP per worker\n",
        "data['k_pc'] = np.log(data['rkna'] / data['emp'])  # Capital per worker\n",
        "data['a'] = 1 - data['labsh']  # Capital share\n",
        "\n",
        "# Order by year\n",
        "data = data.sort_values('year')\n",
        "\n",
        "# Group by isocode\n",
        "grouped_data = data.groupby('countrycode')\n",
        "\n",
        "# Calculate growth rates, capital deepening and TFP growth\n",
        "\n",
        "data['g'] = (grouped_data['y_pc'].diff() * 100)  # Growth rate of GDP per capita\n",
        "data['cd'] = (grouped_data['k_pc'].diff() * 100) * (data['a'])  # capital deepening\n",
        "data['t'] = data['g'] - data['cd']\n",
        "\n",
        "# Remove missing values\n",
        "data = data.dropna()\n",
        "\n",
        "# Calculate summary statistics\n",
        "summary = data.groupby('countrycode').agg({'g': 'mean', 'a': \"mean\",'labsh': \"mean\",'cd': \"mean\",'t': \"mean\"})\n",
        "\n",
        "# Calculate additional summary statistics\n",
        "summary['Growth Rate'] = summary['g']\n",
        "summary['Capital Share'] = summary['a']\n",
        "summary['TFP Share'] = summary['labsh']\n",
        "summary['TFP Growth'] = summary['t']\n",
        "summary['Capital Deepening'] = summary['cd']\n",
        "\n",
        "# Print output\n",
        "print(summary)"
      ]
    }
  ]
}